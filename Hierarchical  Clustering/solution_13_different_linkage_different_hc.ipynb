{
    "nbformat_minor": 1,
    "cells": [
        {
            "cell_type": "markdown",
            "metadata": {},
            "source": [
                "# Exercise 13: Different linkage, different hierarchical clustering!\n",
                "\n",
                "In the video, you saw a hierarchical clustering of the voting countries at the Eurovision song contest using `'complete'` linkage. Now, perform a hierarchical clustering of the voting countries with `'single'` linkage, and compare the resulting dendrogram with the one in the video.  Different linkage, different hierarchical clustering!\n",
                "\n",
                "First, we need to do a little pre-processing to account for one of the Eurovision rules: countries are not allowed to vote for themselves."
            ]
        },
        {
            "cell_type": "markdown",
            "metadata": {},
            "source": [
                "From the course _Transition to Data Science_. [Buy the entire course for just $10](https://www.udemy.com/transition-to-data-science-in-python/?couponCode=HIERARCH-NBS) for many more exercises and helpful video lectures."
            ]
        },
        {
            "cell_type": "markdown",
            "metadata": {},
            "source": [
                "**Step 1:** Load the DataFrame _(written for you)_"
            ]
        },
        {
            "cell_type": "code",
            "outputs": [],
            "metadata": {
                "collapsed": true,
                "exercise": false
            },
            "execution_count": 1,
            "source": [
                "import pandas as pd\n",
                "\n",
                "scores_df = pd.read_csv('../datasets/eurovision-2016-televoting.csv', index_col=0)\n",
                "country_names = list(scores_df.index)"
            ]
        },
        {
            "cell_type": "markdown",
            "metadata": {},
            "source": [
                "**Step 2:** Display the DataFrame, and have a look.  Each row represents a country that _voted_, while each column represents a country that _performed_.\n",
                "\n",
                "Notice the NaN (\"not-a-number\") values.  These correspond to missing scores in the original CSV file.  These scores are missing because countries that performed were not allowed to vote for themselves."
            ]
        },
        {
            "cell_type": "code",
            "outputs": [
                {
                    "data": {
                        "text/html": [
                            "<div>\n",
                            "<table border=\"1\" class=\"dataframe\">\n",
                            "  <thead>\n",
                            "    <tr style=\"text-align: right;\">\n",
                            "      <th></th>\n",
                            "      <th>Armenia</th>\n",
                            "      <th>Australia</th>\n",
                            "      <th>Austria</th>\n",
                            "      <th>Azerbaijan</th>\n",
                            "      <th>Belgium</th>\n",
                            "      <th>Bulgaria</th>\n",
                            "      <th>Croatia</th>\n",
                            "      <th>Cyprus</th>\n",
                            "      <th>Czech Republic</th>\n",
                            "      <th>France</th>\n",
                            "      <th>...</th>\n",
                            "      <th>Lithuania</th>\n",
                            "      <th>Malta</th>\n",
                            "      <th>Poland</th>\n",
                            "      <th>Russia</th>\n",
                            "      <th>Serbia</th>\n",
                            "      <th>Spain</th>\n",
                            "      <th>Sweden</th>\n",
                            "      <th>The Netherlands</th>\n",
                            "      <th>Ukraine</th>\n",
                            "      <th>United Kingdom</th>\n",
                            "    </tr>\n",
                            "    <tr>\n",
                            "      <th>From country</th>\n",
                            "      <th></th>\n",
                            "      <th></th>\n",
                            "      <th></th>\n",
                            "      <th></th>\n",
                            "      <th></th>\n",
                            "      <th></th>\n",
                            "      <th></th>\n",
                            "      <th></th>\n",
                            "      <th></th>\n",
                            "      <th></th>\n",
                            "      <th></th>\n",
                            "      <th></th>\n",
                            "      <th></th>\n",
                            "      <th></th>\n",
                            "      <th></th>\n",
                            "      <th></th>\n",
                            "      <th></th>\n",
                            "      <th></th>\n",
                            "      <th></th>\n",
                            "      <th></th>\n",
                            "      <th></th>\n",
                            "    </tr>\n",
                            "  </thead>\n",
                            "  <tbody>\n",
                            "    <tr>\n",
                            "      <th>Albania</th>\n",
                            "      <td>2.0</td>\n",
                            "      <td>12.0</td>\n",
                            "      <td>0.0</td>\n",
                            "      <td>0.0</td>\n",
                            "      <td>0.0</td>\n",
                            "      <td>8.0</td>\n",
                            "      <td>0.0</td>\n",
                            "      <td>0.0</td>\n",
                            "      <td>0.0</td>\n",
                            "      <td>0.0</td>\n",
                            "      <td>...</td>\n",
                            "      <td>4.0</td>\n",
                            "      <td>0.0</td>\n",
                            "      <td>5.0</td>\n",
                            "      <td>7.0</td>\n",
                            "      <td>0.0</td>\n",
                            "      <td>0.0</td>\n",
                            "      <td>3.0</td>\n",
                            "      <td>0.0</td>\n",
                            "      <td>6.0</td>\n",
                            "      <td>0.0</td>\n",
                            "    </tr>\n",
                            "    <tr>\n",
                            "      <th>Armenia</th>\n",
                            "      <td>NaN</td>\n",
                            "      <td>0.0</td>\n",
                            "      <td>4.0</td>\n",
                            "      <td>0.0</td>\n",
                            "      <td>0.0</td>\n",
                            "      <td>0.0</td>\n",
                            "      <td>0.0</td>\n",
                            "      <td>6.0</td>\n",
                            "      <td>0.0</td>\n",
                            "      <td>7.0</td>\n",
                            "      <td>...</td>\n",
                            "      <td>0.0</td>\n",
                            "      <td>5.0</td>\n",
                            "      <td>1.0</td>\n",
                            "      <td>12.0</td>\n",
                            "      <td>0.0</td>\n",
                            "      <td>0.0</td>\n",
                            "      <td>2.0</td>\n",
                            "      <td>0.0</td>\n",
                            "      <td>10.0</td>\n",
                            "      <td>0.0</td>\n",
                            "    </tr>\n",
                            "    <tr>\n",
                            "      <th>Australia</th>\n",
                            "      <td>0.0</td>\n",
                            "      <td>NaN</td>\n",
                            "      <td>3.0</td>\n",
                            "      <td>0.0</td>\n",
                            "      <td>12.0</td>\n",
                            "      <td>10.0</td>\n",
                            "      <td>0.0</td>\n",
                            "      <td>0.0</td>\n",
                            "      <td>0.0</td>\n",
                            "      <td>7.0</td>\n",
                            "      <td>...</td>\n",
                            "      <td>1.0</td>\n",
                            "      <td>6.0</td>\n",
                            "      <td>0.0</td>\n",
                            "      <td>5.0</td>\n",
                            "      <td>0.0</td>\n",
                            "      <td>2.0</td>\n",
                            "      <td>0.0</td>\n",
                            "      <td>0.0</td>\n",
                            "      <td>8.0</td>\n",
                            "      <td>4.0</td>\n",
                            "    </tr>\n",
                            "    <tr>\n",
                            "      <th>Austria</th>\n",
                            "      <td>0.0</td>\n",
                            "      <td>3.0</td>\n",
                            "      <td>NaN</td>\n",
                            "      <td>0.0</td>\n",
                            "      <td>0.0</td>\n",
                            "      <td>5.0</td>\n",
                            "      <td>0.0</td>\n",
                            "      <td>0.0</td>\n",
                            "      <td>0.0</td>\n",
                            "      <td>1.0</td>\n",
                            "      <td>...</td>\n",
                            "      <td>0.0</td>\n",
                            "      <td>0.0</td>\n",
                            "      <td>12.0</td>\n",
                            "      <td>8.0</td>\n",
                            "      <td>4.0</td>\n",
                            "      <td>0.0</td>\n",
                            "      <td>7.0</td>\n",
                            "      <td>6.0</td>\n",
                            "      <td>10.0</td>\n",
                            "      <td>0.0</td>\n",
                            "    </tr>\n",
                            "    <tr>\n",
                            "      <th>Azerbaijan</th>\n",
                            "      <td>0.0</td>\n",
                            "      <td>2.0</td>\n",
                            "      <td>0.0</td>\n",
                            "      <td>NaN</td>\n",
                            "      <td>0.0</td>\n",
                            "      <td>8.0</td>\n",
                            "      <td>0.0</td>\n",
                            "      <td>0.0</td>\n",
                            "      <td>0.0</td>\n",
                            "      <td>4.0</td>\n",
                            "      <td>...</td>\n",
                            "      <td>0.0</td>\n",
                            "      <td>5.0</td>\n",
                            "      <td>3.0</td>\n",
                            "      <td>12.0</td>\n",
                            "      <td>0.0</td>\n",
                            "      <td>0.0</td>\n",
                            "      <td>0.0</td>\n",
                            "      <td>0.0</td>\n",
                            "      <td>10.0</td>\n",
                            "      <td>0.0</td>\n",
                            "    </tr>\n",
                            "  </tbody>\n",
                            "</table>\n",
                            "<p>5 rows \u00d7 26 columns</p>\n",
                            "</div>"
                        ],
                        "text/plain": [
                            "              Armenia  Australia  Austria  Azerbaijan  Belgium  Bulgaria  \\\n",
                            "From country                                                               \n",
                            "Albania           2.0       12.0      0.0         0.0      0.0       8.0   \n",
                            "Armenia           NaN        0.0      4.0         0.0      0.0       0.0   \n",
                            "Australia         0.0        NaN      3.0         0.0     12.0      10.0   \n",
                            "Austria           0.0        3.0      NaN         0.0      0.0       5.0   \n",
                            "Azerbaijan        0.0        2.0      0.0         NaN      0.0       8.0   \n",
                            "\n",
                            "              Croatia  Cyprus  Czech Republic  France       ...        \\\n",
                            "From country                                                ...         \n",
                            "Albania           0.0     0.0             0.0     0.0       ...         \n",
                            "Armenia           0.0     6.0             0.0     7.0       ...         \n",
                            "Australia         0.0     0.0             0.0     7.0       ...         \n",
                            "Austria           0.0     0.0             0.0     1.0       ...         \n",
                            "Azerbaijan        0.0     0.0             0.0     4.0       ...         \n",
                            "\n",
                            "              Lithuania  Malta  Poland  Russia  Serbia  Spain  Sweden  \\\n",
                            "From country                                                            \n",
                            "Albania             4.0    0.0     5.0     7.0     0.0    0.0     3.0   \n",
                            "Armenia             0.0    5.0     1.0    12.0     0.0    0.0     2.0   \n",
                            "Australia           1.0    6.0     0.0     5.0     0.0    2.0     0.0   \n",
                            "Austria             0.0    0.0    12.0     8.0     4.0    0.0     7.0   \n",
                            "Azerbaijan          0.0    5.0     3.0    12.0     0.0    0.0     0.0   \n",
                            "\n",
                            "              The Netherlands  Ukraine  United Kingdom  \n",
                            "From country                                            \n",
                            "Albania                   0.0      6.0             0.0  \n",
                            "Armenia                   0.0     10.0             0.0  \n",
                            "Australia                 0.0      8.0             4.0  \n",
                            "Austria                   6.0     10.0             0.0  \n",
                            "Azerbaijan                0.0     10.0             0.0  \n",
                            "\n",
                            "[5 rows x 26 columns]"
                        ]
                    },
                    "output_type": "execute_result",
                    "metadata": {},
                    "execution_count": 2
                }
            ],
            "metadata": {
                "collapsed": false
            },
            "execution_count": 2,
            "source": [
                "scores_df.head()"
            ]
        },
        {
            "cell_type": "markdown",
            "metadata": {},
            "source": [
                "**Step 3:** Fill in the NaNs with the highest possible score (12) - we are assuming that countries would vote for themselves, if they had been allowed to do so.  _(This bit written for you)._"
            ]
        },
        {
            "cell_type": "code",
            "outputs": [],
            "metadata": {
                "collapsed": true
            },
            "execution_count": 3,
            "source": [
                "scores_df = scores_df.fillna(12)"
            ]
        },
        {
            "cell_type": "markdown",
            "metadata": {},
            "source": [
                "**Step 4:** Import the `normalize` function from `sklearn.preprocessing`."
            ]
        },
        {
            "cell_type": "code",
            "outputs": [],
            "metadata": {
                "collapsed": true
            },
            "execution_count": 4,
            "source": [
                "from sklearn.preprocessing import normalize"
            ]
        },
        {
            "cell_type": "markdown",
            "metadata": {},
            "source": [
                "**Step 5:** Apply the normalize function to `scores_df.values`, assigning the result to `samples`.\n",
                "\n",
                "(Why do we need to normalize?  Because now that the missing values are filled with 12 points, some countries (those that performed) given a greater total number of points when voting.  The `normalize` function corrects for this.) "
            ]
        },
        {
            "cell_type": "code",
            "outputs": [],
            "metadata": {
                "collapsed": true
            },
            "execution_count": 5,
            "source": [
                "samples = normalize(scores_df.values)"
            ]
        },
        {
            "cell_type": "markdown",
            "metadata": {},
            "source": [
                "**Step 6:** Import:\n",
                " + `linkage` and `dendrogram` from `scipy.cluster.hierarchy`.\n",
                " + `matplotlib.pyplot` as `plt`."
            ]
        },
        {
            "cell_type": "code",
            "outputs": [],
            "metadata": {
                "collapsed": true
            },
            "execution_count": 6,
            "source": [
                "from scipy.cluster.hierarchy import linkage, dendrogram\n",
                "import matplotlib.pyplot as plt"
            ]
        },
        {
            "cell_type": "markdown",
            "metadata": {
                "collapsed": true
            },
            "source": [
                "**Step 7:** Perform hierarchical clustering on `samples` using the `linkage()` function with the `method='single'` keyword argument. Assign the result to `mergings`."
            ]
        },
        {
            "cell_type": "code",
            "outputs": [],
            "metadata": {
                "collapsed": true
            },
            "execution_count": 7,
            "source": [
                "mergings = linkage(samples, method='single')"
            ]
        },
        {
            "cell_type": "markdown",
            "metadata": {},
            "source": [
                "**Step 8:** Plot a dendrogram of the hierarchical clustering, using the list `country_names` as the `labels`. In addition, specify the `leaf_rotation=90`, and `leaf_font_size=6` keyword arguments as you have done earlier."
            ]
        },
        {
            "cell_type": "code",
            "outputs": [
                {
                    "data": {
                        "text/plain": [
                            "<matplotlib.figure.Figure at 0x11450ba58>"
                        ],
                        "image/png": "[encoded data removed]"
                    },
                    "output_type": "display_data",
                    "metadata": {}
                }
            ],
            "metadata": {
                "collapsed": false
            },
            "execution_count": 8,
            "source": [
                "dendrogram(mergings,\n",
                "           labels=country_names,\n",
                "           leaf_rotation=90,\n",
                "           leaf_font_size=6,\n",
                ")\n",
                "plt.show()"
            ]
        },
        {
            "cell_type": "markdown",
            "metadata": {},
            "source": [
                "**Step 9:** Compare your dendrogram above to the one in the slides and notice that different linkage functions give different hierarchical clusterings.\n",
                "\n",
                "Both the linkage functions we've considered, \"complete\" and \"single\", have advantages and disadvantages.  In practice, just try both out, and see which dendrogram seems more sensible."
            ]
        },
        {
            "cell_type": "code",
            "outputs": [],
            "metadata": {
                "collapsed": true
            },
            "execution_count": null,
            "source": []
        }
    ],
    "metadata": {
        "language_info": {
            "version": "3.5.2",
            "file_extension": ".py",
            "mimetype": "text/x-python",
            "codemirror_mode": {
                "name": "ipython",
                "version": 3
            },
            "name": "python",
            "nbconvert_exporter": "python",
            "pygments_lexer": "ipython3"
        },
        "kernelspec": {
            "display_name": "Python [default]",
            "name": "python3",
            "language": "python"
        },
        "anaconda-cloud": {}
    },
    "nbformat": 4
}