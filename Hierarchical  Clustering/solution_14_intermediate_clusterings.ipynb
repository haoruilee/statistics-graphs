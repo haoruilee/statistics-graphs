{
    "cells": [
        {
            "metadata": {},
            "cell_type": "markdown",
            "source": [
                "# Exercise 14: Intermediate clusterings - how many clusters?\n",
                "\n",
                "Consider the dendrogram below - it is the result of your hierarchical clustering of some of the grain samples.\n",
                "\n",
                "**Question:** If the hierarchical clustering were stopped at height 6 on the dendrogram, how many clusters would there be?\n",
                "\n",
                "**Hint:** Imagine a horizontal line at this height."
            ]
        },
        {
            "metadata": {},
            "cell_type": "markdown",
            "source": [
                "From the course _Transition to Data Science_. [Buy the entire course for just $10](https://www.udemy.com/transition-to-data-science-in-python/?couponCode=HIERARCH-NBS) for many more exercises and helpful video lectures."
            ]
        },
        {
            "metadata": {
                "retain_output": true,
                "exercise": false,
                "collapsed": false
            },
            "execution_count": 2,
            "source": [
                "import pandas as pd\n",
                "\n",
                "seeds_df = pd.read_csv('../datasets/seeds-less-rows.csv')\n",
                "\n",
                "# remove the grain species from the DataFrame, save for later\n",
                "varieties = list(seeds_df.pop('grain_variety'))\n",
                "\n",
                "# extract the measurements as a NumPy array\n",
                "samples = seeds_df.values\n",
                "\n",
                "from scipy.cluster.hierarchy import linkage, dendrogram\n",
                "import matplotlib.pyplot as plt\n",
                "\n",
                "mergings = linkage(samples, method='complete')\n",
                "\n",
                "dendrogram(mergings,\n",
                "           labels=varieties,\n",
                "           leaf_rotation=90,\n",
                "           leaf_font_size=6,\n",
                ")\n",
                "plt.show()"
            ],
            "cell_type": "code",
            "outputs": [
                {
                    "metadata": {},
                    "output_type": "display_data",
                    "data": {
                        "text/plain": [
                            "<matplotlib.figure.Figure at 0x112006630>"
                        ],
                        "image/png": "[encoded data removed]"
                    }
                }
            ]
        },
        {
            "metadata": {},
            "cell_type": "markdown",
            "source": [
                "### Answer: 3"
            ]
        },
        {
            "metadata": {
                "collapsed": true
            },
            "execution_count": null,
            "source": [],
            "cell_type": "code",
            "outputs": []
        }
    ],
    "metadata": {
        "kernelspec": {
            "name": "python3",
            "language": "python",
            "display_name": "Python [default]"
        },
        "language_info": {
            "file_extension": ".py",
            "nbconvert_exporter": "python",
            "codemirror_mode": {
                "name": "ipython",
                "version": 3
            },
            "version": "3.5.2",
            "pygments_lexer": "ipython3",
            "name": "python",
            "mimetype": "text/x-python"
        },
        "anaconda-cloud": {}
    },
    "nbformat_minor": 1,
    "nbformat": 4
}